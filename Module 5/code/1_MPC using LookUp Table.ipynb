{
 "cells": [
  {
   "cell_type": "code",
   "execution_count": 1,
   "metadata": {},
   "outputs": [],
   "source": [
    "import pandas as pd "
   ]
  },
  {
   "cell_type": "markdown",
   "metadata": {},
   "source": [
    "### Collected Measurement"
   ]
  },
  {
   "cell_type": "code",
   "execution_count": 2,
   "metadata": {},
   "outputs": [],
   "source": [
    "measuremnts = pd.read_csv('data/inflow_height_simulation.csv')\n",
    "measuremnts = measuremnts[[\"height\", \"inflow\"]]\n",
    "measuremnts = measuremnts[measuremnts >= 0].dropna().reset_index(drop=True)"
   ]
  },
  {
   "cell_type": "code",
   "execution_count": 3,
   "metadata": {},
   "outputs": [
    {
     "data": {
      "text/html": [
       "<div>\n",
       "<style scoped>\n",
       "    .dataframe tbody tr th:only-of-type {\n",
       "        vertical-align: middle;\n",
       "    }\n",
       "\n",
       "    .dataframe tbody tr th {\n",
       "        vertical-align: top;\n",
       "    }\n",
       "\n",
       "    .dataframe thead th {\n",
       "        text-align: right;\n",
       "    }\n",
       "</style>\n",
       "<table border=\"1\" class=\"dataframe\">\n",
       "  <thead>\n",
       "    <tr style=\"text-align: right;\">\n",
       "      <th></th>\n",
       "      <th>height</th>\n",
       "      <th>inflow</th>\n",
       "    </tr>\n",
       "  </thead>\n",
       "  <tbody>\n",
       "    <tr>\n",
       "      <th>0</th>\n",
       "      <td>153.956204</td>\n",
       "      <td>270.638389</td>\n",
       "    </tr>\n",
       "    <tr>\n",
       "      <th>1</th>\n",
       "      <td>153.901945</td>\n",
       "      <td>265.665418</td>\n",
       "    </tr>\n",
       "    <tr>\n",
       "      <th>2</th>\n",
       "      <td>158.890433</td>\n",
       "      <td>276.249860</td>\n",
       "    </tr>\n",
       "    <tr>\n",
       "      <th>3</th>\n",
       "      <td>159.904305</td>\n",
       "      <td>262.572986</td>\n",
       "    </tr>\n",
       "    <tr>\n",
       "      <th>4</th>\n",
       "      <td>158.073539</td>\n",
       "      <td>246.394094</td>\n",
       "    </tr>\n",
       "  </tbody>\n",
       "</table>\n",
       "</div>"
      ],
      "text/plain": [
       "       height      inflow\n",
       "0  153.956204  270.638389\n",
       "1  153.901945  265.665418\n",
       "2  158.890433  276.249860\n",
       "3  159.904305  262.572986\n",
       "4  158.073539  246.394094"
      ]
     },
     "execution_count": 3,
     "metadata": {},
     "output_type": "execute_result"
    }
   ],
   "source": [
    "measuremnts.head()"
   ]
  },
  {
   "cell_type": "markdown",
   "metadata": {},
   "source": [
    "### LookUp Table"
   ]
  },
  {
   "cell_type": "code",
   "execution_count": 4,
   "metadata": {},
   "outputs": [],
   "source": [
    "lookup_table = pd.read_csv(\"data/data_generation_mpc_110_190_6_all.csv\")"
   ]
  },
  {
   "cell_type": "code",
   "execution_count": 5,
   "metadata": {},
   "outputs": [],
   "source": [
    "lookup_table[\"height\"] = lookup_table[\"height\"]*100"
   ]
  },
  {
   "cell_type": "code",
   "execution_count": 6,
   "metadata": {},
   "outputs": [],
   "source": [
    "import pandas as pd\n",
    "import numpy as np\n",
    "\n",
    "def find_closest_speeds(df, inflow, height, pump1_on=1, pump4_on=0):\n",
    "    max_heigh = 170\n",
    "    # Calculate the Euclidean distance for each row\n",
    "    distances = df[['inflow', 'height']].sub(np.array([inflow, height]), axis=1).pow(2).sum(1).pow(0.5)\n",
    "    \n",
    "    # Find the index of the row with the smallest distance\n",
    "    closest_index = distances.idxmin()\n",
    "    pump1_speed, pump4_speed = df.loc[closest_index, ['speed1_rpm', 'speed4_rpm']]\n",
    "    pump1_speed, pump4_speed = int(pump1_speed), int(pump4_speed)\n",
    "\n",
    "    if (pump1_on == 1) & (height <= max_heigh):\n",
    "\n",
    "        return 1*pump1_speed, 0*pump4_speed\n",
    "    \n",
    "    elif (pump4_on==1) & (height <= max_heigh): \n",
    "        \n",
    "        return 0*pump1_speed, 1*pump4_speed\n",
    "    \n",
    "    elif height > max_heigh:\n",
    "        return pump1_speed, pump4_speed\n",
    "\n"
   ]
  },
  {
   "cell_type": "code",
   "execution_count": 7,
   "metadata": {},
   "outputs": [
    {
     "name": "stderr",
     "output_type": "stream",
     "text": [
      "  0%|          | 6/1822 [00:00<00:31, 56.87it/s]"
     ]
    },
    {
     "name": "stdout",
     "output_type": "stream",
     "text": [
      "Iteration 0:\n",
      "Pump 1 is OFF\n",
      "Pump 4 is ON\n"
     ]
    },
    {
     "name": "stderr",
     "output_type": "stream",
     "text": [
      " 11%|█▏        | 209/1822 [00:03<00:23, 69.47it/s]"
     ]
    },
    {
     "name": "stdout",
     "output_type": "stream",
     "text": [
      "Iteration 200:\n",
      "Pump 1 is OFF\n",
      "Pump 4 is ON\n"
     ]
    },
    {
     "name": "stderr",
     "output_type": "stream",
     "text": [
      " 23%|██▎       | 410/1822 [00:06<00:19, 71.58it/s]"
     ]
    },
    {
     "name": "stdout",
     "output_type": "stream",
     "text": [
      "Iteration 400:\n",
      "Pump 1 is ON\n",
      "Pump 4 is ON\n"
     ]
    },
    {
     "name": "stderr",
     "output_type": "stream",
     "text": [
      " 33%|███▎      | 608/1822 [00:09<00:19, 61.05it/s]"
     ]
    },
    {
     "name": "stdout",
     "output_type": "stream",
     "text": [
      "Iteration 600:\n",
      "Pump 1 is OFF\n",
      "Pump 4 is ON\n"
     ]
    },
    {
     "name": "stderr",
     "output_type": "stream",
     "text": [
      " 45%|████▍     | 813/1822 [00:11<00:14, 71.34it/s]"
     ]
    },
    {
     "name": "stdout",
     "output_type": "stream",
     "text": [
      "Iteration 800:\n",
      "Pump 1 is ON\n",
      "Pump 4 is OFF\n"
     ]
    },
    {
     "name": "stderr",
     "output_type": "stream",
     "text": [
      " 55%|█████▌    | 1011/1822 [00:14<00:11, 73.70it/s]"
     ]
    },
    {
     "name": "stdout",
     "output_type": "stream",
     "text": [
      "Iteration 1000:\n",
      "Pump 1 is ON\n",
      "Pump 4 is ON\n"
     ]
    },
    {
     "name": "stderr",
     "output_type": "stream",
     "text": [
      " 67%|██████▋   | 1215/1822 [00:17<00:08, 70.52it/s]"
     ]
    },
    {
     "name": "stdout",
     "output_type": "stream",
     "text": [
      "Iteration 1200:\n",
      "Pump 1 is OFF\n",
      "Pump 4 is ON\n"
     ]
    },
    {
     "name": "stderr",
     "output_type": "stream",
     "text": [
      " 77%|███████▋  | 1409/1822 [00:20<00:05, 71.53it/s]"
     ]
    },
    {
     "name": "stdout",
     "output_type": "stream",
     "text": [
      "Iteration 1400:\n",
      "Pump 1 is OFF\n",
      "Pump 4 is ON\n"
     ]
    },
    {
     "name": "stderr",
     "output_type": "stream",
     "text": [
      " 89%|████████▊ | 1613/1822 [00:23<00:02, 70.11it/s]"
     ]
    },
    {
     "name": "stdout",
     "output_type": "stream",
     "text": [
      "Iteration 1600:\n",
      "Pump 1 is OFF\n",
      "Pump 4 is ON\n"
     ]
    },
    {
     "name": "stderr",
     "output_type": "stream",
     "text": [
      "100%|█████████▉| 1813/1822 [00:26<00:00, 67.80it/s]"
     ]
    },
    {
     "name": "stdout",
     "output_type": "stream",
     "text": [
      "Iteration 1800:\n",
      "Pump 1 is OFF\n",
      "Pump 4 is ON\n"
     ]
    },
    {
     "name": "stderr",
     "output_type": "stream",
     "text": [
      "100%|██████████| 1822/1822 [00:26<00:00, 68.47it/s]\n"
     ]
    }
   ],
   "source": [
    "from tqdm import tqdm\n",
    "import random\n",
    "\n",
    "pump1_rpm_hist, pump4_rpm_hist= [], []\n",
    "\n",
    "for index in tqdm(range(0,len(measuremnts))):\n",
    "    if index % 200 == 0:\n",
    "        pump1_on = random.randint(0, 1)\n",
    "        pump4_on = 1 - pump1_on\n",
    "        print(f\"Iteration {index}:\")\n",
    "        if pump1_on == 1:\n",
    "            print(\"Pump 1 is ON\")\n",
    "            print(\"Pump 4 is OFF\")\n",
    "        elif measuremnts.loc[index, \"height\"] > 170:\n",
    "            print(\"Pump 1 is ON\")\n",
    "            print(\"Pump 4 is ON\")\n",
    "\n",
    "        else:\n",
    "            print(\"Pump 1 is OFF\")\n",
    "            print(\"Pump 4 is ON\")\n",
    "    pump1_rpm, pump4_rpm = find_closest_speeds(lookup_table, measuremnts.loc[index, \"inflow\"], measuremnts.loc[index, \"height\"], pump1_on, pump4_on)\n",
    "    pump1_rpm_hist.append(pump1_rpm)\n",
    "    pump4_rpm_hist.append(pump4_rpm)\n"
   ]
  },
  {
   "cell_type": "code",
   "execution_count": 8,
   "metadata": {},
   "outputs": [
    {
     "data": {
      "image/png": "[encoded data removed]",
      "text/plain": [
       "<Figure size 640x480 with 1 Axes>"
      ]
     },
     "metadata": {},
     "output_type": "display_data"
    }
   ],
   "source": [
    "import matplotlib.pyplot as plt\n",
    "\n",
    "x_values = range(len(pump1_rpm_hist))\n",
    "fig, ax = plt.subplots()\n",
    "\n",
    "ax.plot(x_values, pump1_rpm_hist, label='Pump 1 RPM', color='blue')\n",
    "ax.plot(x_values, pump4_rpm_hist, label='Pump 4 RPM', color='red')\n",
    "\n",
    "ax.set_xlabel('Time')\n",
    "ax.set_ylabel('RPM')\n",
    "ax.set_title('Pump RPM History')\n",
    "plt.grid()\n",
    "ax.legend()\n",
    "\n",
    "plt.show()\n"
   ]
  }
 ],
 "metadata": {
  "kernelspec": {
   "display_name": "pytorch_env",
   "language": "python",
   "name": "pytorch_env"
  },
  "language_info": {
   "codemirror_mode": {
    "name": "ipython",
    "version": 3
   },
   "file_extension": ".py",
   "mimetype": "text/x-python",
   "name": "python",
   "nbconvert_exporter": "python",
   "pygments_lexer": "ipython3",
   "version": "3.11.4"
  }
 },
 "nbformat": 4,
 "nbformat_minor": 2
}
