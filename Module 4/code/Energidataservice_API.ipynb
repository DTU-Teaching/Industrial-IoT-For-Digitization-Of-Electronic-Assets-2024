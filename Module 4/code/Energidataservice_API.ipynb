{
 "cells": [
  {
   "cell_type": "markdown",
   "metadata": {},
   "source": [
    "# Energi Data Service\n",
    "\n",
    "The [Energi Data Services](https://www.energidataservice.dk/) is run by the Danish national transmission system operator (TSO) Energinet and provides data about the systems run by them. The data can be found directly on the website and as an API which makes it easier to retrieve the data automatically and use it in programs. \n",
    "\n",
    "The service uses a basic REST API, which utilizes different HTTP(S) request to retrieve data. Like many other web APIs the data is returned in the JSON format.\n",
    "\n",
    "As an example we are going to show you how to get the FCR-D prices. This includes even includes swedish bidding zones, as they are procured combined. \n",
    "The [overview](https://www.energidataservice.dk/tso-electricity/FcrNdDK2) can be used to explore the data and explains the returned values, the API itself can be found in the top right under \"Data API\"."
   ]
  },
  {
   "cell_type": "code",
   "execution_count": null,
   "metadata": {},
   "outputs": [],
   "source": [
    "import requests\n",
    "from datetime import datetime, timedelta, timezone\n",
    "\n",
    "response = requests.get(url='https://api.energidataservice.dk/dataset/FcrNdDK2', params={\"limit\": 15})\n",
    "print(f\"request url: {response.request.url}\")\n",
    "print(f\"status code: {response.status_code}\", end=\"\\n\\n\")\n",
    "\n",
    "if response.ok:\n",
    "\tresult = response.json()\n",
    "\tfor k, v in result.items():\n",
    "\t\tprint(k, v)\n",
    "\n",
    "else:\n",
    "\traise f\"Returned status {response.status_code}: {response.text}\""
   ]
  },
  {
   "cell_type": "markdown",
   "metadata": {},
   "source": [
    "# Importing the data into pandas\n",
    "\n",
    "Fortunately the data is structured in a way that the records can directly be loaded into pandas."
   ]
  },
  {
   "cell_type": "code",
   "execution_count": null,
   "metadata": {},
   "outputs": [],
   "source": [
    "import pandas as pd\n",
    "\n",
    "# your code here"
   ]
  },
  {
   "cell_type": "markdown",
   "metadata": {},
   "source": [
    "# Customizing the request\n",
    "The previous data contains many entries, most likely we don't need all combinations. So ideally we limit the requested data.\n",
    "https://www.energidataservice.dk/guides/api-guides provides a detailed description on how the request has to be structured and which parameters can be used while querying the data. The previous request already was using the limit parameter to only request 5 data points. One parameter allows to only get specific entries.\n",
    "\n",
    "Use the parameters to only get FCR-D prices in the upward direction for the DK2 price zone and in the D-1 early auction. Additionally change the time window to December last year (you have to adapt the limit to get the full month of data).\n",
    "\n",
    "In the next step we can now easily visualize the data"
   ]
  },
  {
   "cell_type": "markdown",
   "metadata": {},
   "source": [
    "# Plotting the data\n",
    "\n",
    "If you have filtered the data correctly you can easily plot it to get an overview over the prices."
   ]
  },
  {
   "cell_type": "code",
   "execution_count": null,
   "metadata": {},
   "outputs": [],
   "source": [
    "import matplotlib.pyplot as plt\n",
    "\n",
    "# you code here"
   ]
  },
  {
   "cell_type": "markdown",
   "metadata": {},
   "source": [
    "# Get data from a different api\n",
    "\n",
    "Get data from \"CO2 Emission Prognosis\" for the DK2 region and plot it as well. "
   ]
  },
  {
   "cell_type": "markdown",
   "metadata": {},
   "source": [
    "# Grafana\n",
    "\n",
    "Grafana has the ability to add JSON APIs as well. You can add the base URL https://api.energidataservice.dk/dataset as a data source and then create dashboards using all available datasets. Then create a visualization panel and retrieve the data using the [query editor](https://grafana.github.io/grafana-json-datasource/query-editor).\n",
    "Using [template variables](https://grafana.com/docs/grafana/latest/dashboards/variables/add-template-variables/#__from-and-__to) the query can be customized to fit the time range selected for the dashboard.\n",
    "\n",
    "Create a dashboard with both api that you have used previously."
   ]
  }
 ],
 "metadata": {
  "kernelspec": {
   "display_name": "feop",
   "language": "python",
   "name": "python3"
  },
  "language_info": {
   "codemirror_mode": {
    "name": "ipython",
    "version": 3
   },
   "file_extension": ".py",
   "mimetype": "text/x-python",
   "name": "python",
   "nbconvert_exporter": "python",
   "pygments_lexer": "ipython3",
   "version": "3.9.18"
  }
 },
 "nbformat": 4,
 "nbformat_minor": 2
}
